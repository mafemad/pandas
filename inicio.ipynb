{
 "cells": [
  {
   "cell_type": "markdown",
   "id": "96d39fdc",
   "metadata": {},
   "source": [
    "## bibliotecas"
   ]
  },
  {
   "cell_type": "code",
   "execution_count": null,
   "id": "1b025aa0",
   "metadata": {},
   "outputs": [],
   "source": [
    "import pandas as pd \n",
    "import numpy as np"
   ]
  },
  {
   "cell_type": "markdown",
   "id": "3bd9c69d",
   "metadata": {},
   "source": [
    "## Importação bases de dados"
   ]
  },
  {
   "cell_type": "code",
   "execution_count": null,
   "id": "ebcc2528",
   "metadata": {},
   "outputs": [],
   "source": [
    "df = pd.read_csv('./data/teste.csv')\n",
    "\n",
    "df.head() \n",
    "\n",
    "#df.to_parquet('./data/teste.parquet', index=False)\n",
    "results = pd.read_parquet('./data/results.parquet') # base de dados em uma versão mais leve que xlsx ou csv, \n",
    "bios = pd.read_csv('./data/bios.csv')"
   ]
  },
  {
   "cell_type": "markdown",
   "id": "46d24cb1",
   "metadata": {},
   "source": []
  },
  {
   "cell_type": "markdown",
   "id": "58bb6f01",
   "metadata": {},
   "source": [
    "## Metodos básicos de seleção de dados"
   ]
  },
  {
   "cell_type": "code",
   "execution_count": null,
   "id": "e031ba66",
   "metadata": {},
   "outputs": [],
   "source": [
    "display(df.loc[0:5, ['unidades vendidas', 'dia']]) # permite localizar pela label do index\n",
    "\n",
    "display(df.iloc[0:5]) #somente index numerico como 0,1,2,3 alem de excluir o ultimo valor\n",
    "\n",
    "display(df.at[0, \"café\"]) # loc porem somente para um valor \n",
    "display(df.iat[0,0]) # iloc porem somente para um valor"
   ]
  },
  {
   "cell_type": "code",
   "execution_count": null,
   "id": "a202e131",
   "metadata": {},
   "outputs": [],
   "source": [
    "# como definir valores de uma linha e coluna \n",
    "display(df.head())\n",
    "df.loc[0:5, [\"unidades vendidas\"]] = 20\n",
    "display(df.head())\n"
   ]
  },
  {
   "cell_type": "markdown",
   "id": "746623f8",
   "metadata": {},
   "source": [
    "## Ordenação de dados"
   ]
  },
  {
   "cell_type": "code",
   "execution_count": null,
   "id": "8668b1e3",
   "metadata": {},
   "outputs": [],
   "source": [
    "# utilizando somente um parametro para o sort, neste caso é um numero entao vai ser por ordem de valor\n",
    "# ascending=True diz que vai ser do menor pro maior, se for False o contrario\n",
    "display(df.sort_values(\"unidades vendidas\", ascending=True))\n",
    "\n",
    "# é possivel utilizar mais de um criterio no sort, neste caso unidades e cafe\n",
    "# unidades sendo numerico vai ser por valor, ja no cafe como é uma string é alfabética\n",
    "# no ascending é passado uma lista que representa respectivamente como cada criterio vai ser organizado\n",
    "display(df.sort_values([\"unidades vendidas\", \"café\"],ascending=[0,1]))\n",
    "\n"
   ]
  },
  {
   "cell_type": "markdown",
   "id": "20aea5e4",
   "metadata": {},
   "source": [
    "## Filtragem de dados"
   ]
  },
  {
   "cell_type": "markdown",
   "id": "6208f8a9",
   "metadata": {},
   "source": [
    "#### Com loc e seleção personalizada"
   ]
  },
  {
   "cell_type": "code",
   "execution_count": null,
   "id": "ca22b200",
   "metadata": {},
   "outputs": [],
   "source": [
    "# filtrando por valor de uma coluna, retorna todas as linhas onde height_cm é maior igual a 200\n",
    "display(bios.loc[bios[\"height_cm\"] >= 200,[\"name\", \"height_cm\"]]) # loc é [index, columns]\n",
    "\n",
    "# loc nao é obrigatorio bios[bios[\"height_cm\"] >= 200][[\"name\", \"height_cm\"]] traz o mesmo resultado\n",
    "\n",
    "# é possível passar mais de uma condição, é necessario colocar entre () cada uma\n",
    "# a sintaxe ficaria (condição 1) & ou | (condição 2), & para and = dois lados verdadeira e | para or = 1 lado verdadeiro é suficiente\n",
    "display(bios[(bios[\"height_cm\"] >= 200) & (bios[\"born_country\"] == \"BRA\")])\n"
   ]
  },
  {
   "cell_type": "markdown",
   "id": "dcadc344",
   "metadata": {},
   "source": [
    "### Utilizando metodos de string e regex"
   ]
  },
  {
   "cell_type": "code",
   "execution_count": null,
   "id": "2248ff12",
   "metadata": {},
   "outputs": [],
   "source": [
    "# traz todas as linhas onde o campo nome == joão ignorando case\n",
    "display(bios[bios['name'].str.contains('joão', case=False)])\n",
    "\n",
    "# traz todas as linhas onde o campo nome começa com \"Maria\" (case insensitive)\n",
    "# O parâmetro na=False faz com que valores nulos (NaN) sejam tratados como False na filtragem, linhas onde 'name' é NaN não serão selecionadas.\n",
    "display(bios[bios['name'].str.startswith('Maria', na=False)])\n",
    "\n",
    "# traz todas as linhas onde o campo nome termina com \"son\" (case insensitive)\n",
    "display(bios[bios['name'].str.endswith('son', na=False)])\n",
    "\n",
    "# traz todas as linhas onde o campo nome contém apenas letras (sem números ou caracteres especiais)\n",
    "display(bios[bios['name'].str.match(r'^[A-Za-z\\s]+$', na=False)])\n",
    "\n",
    "# traz todas as linhas onde o campo nome contém \"da Silva\" usando regex, ignorando case\n",
    "display(bios[bios['name'].str.contains(r'da\\s+silva', case=False, regex=True)])\n",
    "\n",
    "# traz todas as linhas onde o campo nome possui exatamente dois nomes (dois grupos de letras separados por espaço)\n",
    "display(bios[bios['name'].str.match(r'^[A-Za-z]+ [A-Za-z]+$', na=False)])\n",
    "\n"
   ]
  },
  {
   "cell_type": "code",
   "execution_count": null,
   "id": "65141769",
   "metadata": {},
   "outputs": [],
   "source": [
    "# metodo isin serve para checar se existe um valor dentro de uma lista de valores\n",
    "display(bios[bios[\"born_country\"].isin(['USA', 'FRA', 'BRA', 'GBR'])])\n",
    "\n",
    "# é possivel adicionar mais imposições junto como nesse caso onde somente nome com j nos paises da lista\n",
    "display(bios[bios[\"born_country\"].isin(['USA', 'FRA', 'BRA', 'GBR']) & (bios['name'].str.startswith('J'))])"
   ]
  },
  {
   "cell_type": "markdown",
   "id": "5ebb7c77",
   "metadata": {},
   "source": [
    "### query\n"
   ]
  },
  {
   "cell_type": "code",
   "execution_count": null,
   "id": "fd27426e",
   "metadata": {},
   "outputs": [],
   "source": [
    "bios.query('born_country == \"BRA\" and born_city == \"Rio de Janeiro\"')"
   ]
  },
  {
   "cell_type": "markdown",
   "id": "a9a49ff5",
   "metadata": {},
   "source": [
    "## adicionar e remover colunas\n"
   ]
  },
  {
   "cell_type": "code",
   "execution_count": null,
   "id": "102648a8",
   "metadata": {},
   "outputs": [],
   "source": [
    "# Adiciona uma nova coluna chamada 'preço' ao DataFrame df e define todos os valores dessa coluna como 10.\n",
    "# O operador de atribuição (=) cria a coluna se ela não existir ou sobrescreve se já existir.\n",
    "# Sintaxe: df['nome_coluna'] = valor ou expressão\n",
    "df['preço'] = 10\n",
    "\n",
    "df"
   ]
  },
  {
   "cell_type": "code",
   "execution_count": null,
   "id": "61333130",
   "metadata": {},
   "outputs": [],
   "source": [
    "# Cria uma nova coluna 'novo_preço' no DataFrame df.\n",
    "# np.where permite definir valores diferentes para a coluna com base em uma condição.\n",
    "# Aqui, se o valor da coluna 'café' for 'expresso', o preço será 8.99; caso contrário, será 7.59.\n",
    "df['novo_preço'] = np.where(df['café'] == 'expresso', 8.99, 7.59)\n",
    "\n",
    "df"
   ]
  },
  {
   "cell_type": "code",
   "execution_count": null,
   "id": "8866f63a",
   "metadata": {},
   "outputs": [],
   "source": [
    "# Remove a coluna 'preço' do DataFrame df.\n",
    "# O parâmetro inplace=True faz com que a alteração seja feita diretamente no DataFrame original.\n",
    "df.drop(columns=['preço'], inplace=True)\n",
    "\n",
    "df"
   ]
  },
  {
   "cell_type": "code",
   "execution_count": null,
   "id": "5b4d686b",
   "metadata": {},
   "outputs": [],
   "source": [
    "# Cria uma nova coluna chamada 'lucro' multiplicando as colunas 'unidades vendidas' e 'novo_preço'.\n",
    "# Isso calcula o lucro de cada linha com base na quantidade vendida e no preço do produto.\n",
    "df['lucro'] = df['unidades vendidas'] * df['novo_preço']\n",
    "\n",
    "df"
   ]
  },
  {
   "cell_type": "code",
   "execution_count": null,
   "id": "0e7d5680",
   "metadata": {},
   "outputs": [],
   "source": [
    "# Renomeia a coluna 'novo_preço' para 'preço' no DataFrame df.\n",
    "# O parâmetro inplace=True faz a alteração diretamente no DataFrame original.\n",
    "df.rename(columns={'novo_preço':'preço'}, inplace=True)\n"
   ]
  },
  {
   "cell_type": "code",
   "execution_count": null,
   "id": "d1e6347f",
   "metadata": {},
   "outputs": [],
   "source": [
    "# Cria uma cópia do DataFrame bios para evitar alterações no original.\n",
    "bios_new = bios.copy()"
   ]
  },
  {
   "cell_type": "code",
   "execution_count": null,
   "id": "bf6fad52",
   "metadata": {},
   "outputs": [],
   "source": [
    "# Cria uma nova coluna chamada 'first_name' contendo apenas o primeiro nome de cada pessoa.\n",
    "# O método str.split(' ') divide o nome pelo espaço e str[0] seleciona o primeiro elemento da lista.\n",
    "bios_new['first_name'] = bios_new['name'].str.split(' ').str[0]\n",
    "\n",
    "bios_new"
   ]
  },
  {
   "cell_type": "code",
   "execution_count": null,
   "id": "42ba5354",
   "metadata": {},
   "outputs": [],
   "source": [
    "# Converte a coluna 'born_date' para o tipo datetime e armazena em uma nova coluna 'born_datetime'.\n",
    "# Isso facilita operações com datas, como extração de ano, mês, etc.\n",
    "bios_new['born_datetime'] = pd.to_datetime(bios_new['born_date'])\n",
    "\n",
    "bios_new"
   ]
  },
  {
   "cell_type": "code",
   "execution_count": null,
   "id": "069de5ee",
   "metadata": {},
   "outputs": [],
   "source": [
    "# Cria uma nova coluna 'born_year' extraindo o ano da coluna 'born_datetime'.\n",
    "# O atributo .dt.year retorna apenas o ano da data.\n",
    "bios_new['born_year'] = bios_new['born_datetime'].dt.year\n",
    "\n",
    "bios_new"
   ]
  },
  {
   "cell_type": "code",
   "execution_count": null,
   "id": "2d794372",
   "metadata": {},
   "outputs": [],
   "source": [
    "bios['height_category'] = bios['height_cm'].apply(lambda x: 'Short' if x< 165 else('Average' if x < 185 else 'Tall'))\n",
    "\n",
    "bios"
   ]
  },
  {
   "cell_type": "code",
   "execution_count": null,
   "id": "1fce7dfe",
   "metadata": {},
   "outputs": [],
   "source": [
    "def categorize(row):\n",
    "    if pd.isna(row['height_cm']) or pd.isna(row['weight_kg']):\n",
    "        return 'not enough data'\n",
    "    elif row['height_cm'] <= 175 and row['weight_kg'] <= 70:\n",
    "        return 'Lightweight'\n",
    "    elif row['height_cm'] <= 185 and row['weight_kg'] <= 80:\n",
    "        return 'Midleweight'\n",
    "    else:\n",
    "        return \"Heavweight\"\n",
    "    \n",
    "bios['category'] = bios.apply(categorize, axis=1)\n",
    "\n",
    "bios"
   ]
  },
  {
   "cell_type": "markdown",
   "id": "8c0fba76",
   "metadata": {},
   "source": [
    "## Merging & Concatenating"
   ]
  },
  {
   "cell_type": "code",
   "execution_count": null,
   "id": "a1c481b4",
   "metadata": {},
   "outputs": [],
   "source": [
    "# Lê o arquivo 'noc_regions.csv' e armazena o conteúdo no DataFrame nocs.\n",
    "# Este arquivo contém informações sobre os países e regiões dos atletas.\n",
    "nocs = pd.read_csv('./data/noc_regions.csv')\n",
    "\n",
    "# Exibe as primeiras linhas do DataFrame para visualização rápida dos dados.\n",
    "nocs.head()"
   ]
  },
  {
   "cell_type": "code",
   "execution_count": null,
   "id": "db02c43d",
   "metadata": {},
   "outputs": [],
   "source": [
    "# Realiza um merge (junção) entre os DataFrames bios e nocs.\n",
    "# A junção é feita usando a coluna 'born_country' de bios e 'NOC' de nocs.\n",
    "# O parâmetro how='left' garante que todos os registros de bios sejam mantidos, mesmo que não haja correspondência em nocs.\n",
    "bios_new = pd.merge(bios, nocs, left_on='born_country', right_on='NOC', how='left')\n",
    "\n",
    "# Exibe as primeiras linhas do novo DataFrame resultante do merge.\n",
    "bios_new.head()"
   ]
  },
  {
   "cell_type": "code",
   "execution_count": null,
   "id": "184df1e8",
   "metadata": {},
   "outputs": [],
   "source": [
    "# Renomeia a coluna 'region' para 'born_country_full' para facilitar a identificação do país completo.\n",
    "bios_new.rename(columns={'region': 'born_country_full'}, inplace=True)\n",
    "\n",
    "# Exibe as primeiras linhas do DataFrame após a renomeação da coluna.\n",
    "bios_new.head()"
   ]
  },
  {
   "cell_type": "code",
   "execution_count": null,
   "id": "b4c8c2e1",
   "metadata": {},
   "outputs": [],
   "source": [
    "# Filtra os atletas nascidos no Brasil e nos EUA, criando cópias dos DataFrames.\n",
    "bra = bios[bios['born_country']== 'BRA'].copy()\n",
    "usa = bios[bios['born_country']== 'USA'].copy()\n",
    "\n",
    "# Concatena os DataFrames bra e usa em um novo DataFrame chamado new_df.\n",
    "# O resultado é um DataFrame com atletas de ambos os países.\n",
    "new_df = pd.concat([bra,usa])\n",
    "\n",
    "# Exibe o DataFrame concatenado.\n",
    "new_df"
   ]
  },
  {
   "cell_type": "code",
   "execution_count": null,
   "id": "0030d987",
   "metadata": {},
   "outputs": [],
   "source": [
    "# Realiza um merge entre os DataFrames results e bios usando a coluna 'athlete_id'.\n",
    "# O parâmetro how='left' garante que todos os registros de results sejam mantidos.\n",
    "combined_df = pd.merge(results, bios, on='athlete_id', how='left')\n",
    "\n",
    "# Exibe o DataFrame resultante do merge.\n",
    "combined_df"
   ]
  },
  {
   "cell_type": "markdown",
   "id": "0c96c7a0",
   "metadata": {},
   "source": [
    "## Valores vazios"
   ]
  },
  {
   "cell_type": "code",
   "execution_count": null,
   "id": "3d4988dd",
   "metadata": {},
   "outputs": [],
   "source": [
    "# Define valores ausentes (NaN) nas linhas 2 e 3 da coluna 'unidades vendidas'.\n",
    "# Isso é útil para simular ou tratar dados faltantes em análises.\n",
    "df.loc[[2,3], 'unidades vendidas'] = np.nan"
   ]
  },
  {
   "cell_type": "code",
   "execution_count": null,
   "id": "f2051da7",
   "metadata": {},
   "outputs": [],
   "source": [
    "# Preenchimento de valores ausentes na coluna 'unidades vendidas'.\n",
    "# O método interpolate() preenche os valores NaN com base em uma interpolação linear dos valores vizinhos.\n",
    "# Também é possível usar fillna() para preencher com a média, mediana ou outro valor.\n",
    "#df.fillna(round(df['unidades vendidas'].mean()))\n",
    "\n",
    "df['unidades vendidas'] = df['unidades vendidas'].interpolate()\n",
    "\n",
    "df.head()"
   ]
  },
  {
   "cell_type": "code",
   "execution_count": null,
   "id": "129fb67c",
   "metadata": {},
   "outputs": [],
   "source": [
    "# Remove as linhas do DataFrame onde a coluna 'unidades vendidas' possui valores ausentes (NaN).\n",
    "# Útil para análises que exigem apenas dados completos.\n",
    "df.dropna(subset=['unidades vendidas'])"
   ]
  },
  {
   "cell_type": "code",
   "execution_count": null,
   "id": "e22bc120",
   "metadata": {},
   "outputs": [],
   "source": [
    "# Filtra e exibe apenas as linhas onde 'unidades vendidas' é ausente (NaN).\n",
    "df[df['unidades vendidas'].isna()]\n",
    "\n",
    "# Filtra e exibe apenas as linhas onde 'unidades vendidas' NÃO é ausente (não é NaN).\n",
    "df[df['unidades vendidas'].notna()]"
   ]
  },
  {
   "cell_type": "markdown",
   "id": "32f31551",
   "metadata": {},
   "source": [
    "## Agregação"
   ]
  },
  {
   "cell_type": "code",
   "execution_count": null,
   "id": "a54d33c8",
   "metadata": {},
   "outputs": [],
   "source": [
    "bios['born_city'].value_counts().iloc[:5]"
   ]
  },
  {
   "cell_type": "code",
   "execution_count": null,
   "id": "1287a5a5",
   "metadata": {},
   "outputs": [],
   "source": [
    "bios[bios['born_country'] == 'BRA']['born_city'].value_counts()"
   ]
  },
  {
   "cell_type": "code",
   "execution_count": null,
   "id": "8a48a350",
   "metadata": {},
   "outputs": [],
   "source": [
    "df.groupby(['café'])['unidades vendidas'].sum()"
   ]
  },
  {
   "cell_type": "code",
   "execution_count": null,
   "id": "008f0fb8",
   "metadata": {},
   "outputs": [],
   "source": [
    "df.groupby(['café', 'dia']).agg({'unidades vendidas': 'sum', 'preço': 'mean'})"
   ]
  },
  {
   "cell_type": "code",
   "execution_count": null,
   "id": "acd7f2b1",
   "metadata": {},
   "outputs": [],
   "source": [
    "pivot = df.pivot(columns='café', index='dia', values='lucro')\n",
    "\n",
    "pivot"
   ]
  },
  {
   "cell_type": "code",
   "execution_count": null,
   "id": "f9820b64",
   "metadata": {},
   "outputs": [],
   "source": [
    "pivot.sum(axis=1)"
   ]
  },
  {
   "cell_type": "code",
   "execution_count": null,
   "id": "0552195b",
   "metadata": {},
   "outputs": [],
   "source": [
    "bios['born_date'] = pd.to_datetime(bios['born_date'])\n",
    "\n",
    "bios.groupby(bios['born_date'].dt.year)['name'].count().reset_index().sort_values('name', ascending=False)"
   ]
  },
  {
   "cell_type": "code",
   "execution_count": null,
   "id": "b1e366aa",
   "metadata": {},
   "outputs": [],
   "source": [
    "bios['born_date'] = pd.to_datetime(bios['born_date'])\n",
    "bios['month_born'] = bios['born_date'].dt.month\n",
    "bios['year_born'] = bios['born_date'].dt.year\n",
    "bios.groupby([bios['year_born'],bios['month_born']])['name'].count().reset_index().sort_values('name', ascending=False)"
   ]
  }
 ],
 "metadata": {
  "kernelspec": {
   "display_name": ".venv (3.11.2)",
   "language": "python",
   "name": "python3"
  },
  "language_info": {
   "codemirror_mode": {
    "name": "ipython",
    "version": 3
   },
   "file_extension": ".py",
   "mimetype": "text/x-python",
   "name": "python",
   "nbconvert_exporter": "python",
   "pygments_lexer": "ipython3",
   "version": "3.11.2"
  }
 },
 "nbformat": 4,
 "nbformat_minor": 5
}
