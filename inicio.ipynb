{
 "cells": [
  {
   "cell_type": "markdown",
   "id": "96d39fdc",
   "metadata": {},
   "source": [
    "## bibliotecas"
   ]
  },
  {
   "cell_type": "code",
   "execution_count": 2,
   "id": "1b025aa0",
   "metadata": {},
   "outputs": [],
   "source": [
    "import pandas as pd "
   ]
  },
  {
   "cell_type": "markdown",
   "id": "3bd9c69d",
   "metadata": {},
   "source": [
    "## Importação bases de dados"
   ]
  },
  {
   "cell_type": "code",
   "execution_count": 3,
   "id": "ebcc2528",
   "metadata": {},
   "outputs": [],
   "source": [
    "df = pd.read_csv('./data/teste.csv')\n",
    "\n",
    "df.head() \n",
    "\n",
    "#df.to_parquet('./data/teste.parquet', index=False)\n",
    "results = pd.read_parquet('./data/results.parquet') # base de dados em uma versão mais leve que xlsx ou csv, \n",
    "bios = pd.read_csv('./data/bios.csv')"
   ]
  },
  {
   "cell_type": "markdown",
   "id": "46d24cb1",
   "metadata": {},
   "source": []
  },
  {
   "cell_type": "markdown",
   "id": "58bb6f01",
   "metadata": {},
   "source": [
    "## Metodos básicos de seleção de dados"
   ]
  },
  {
   "cell_type": "code",
   "execution_count": null,
   "id": "e031ba66",
   "metadata": {},
   "outputs": [],
   "source": [
    "display(df.loc[0:5, ['unidades vendidas', 'dia']]) # permite localizar pela label do index\n",
    "\n",
    "display(df.iloc[0:5]) #somente index numerico como 0,1,2,3 alem de excluir o ultimo valor\n",
    "\n",
    "display(df.at[0, \"café\"]) # loc porem somente para um valor \n",
    "display(df.iat[0,0]) # iloc porem somente para um valor"
   ]
  },
  {
   "cell_type": "code",
   "execution_count": null,
   "id": "a202e131",
   "metadata": {},
   "outputs": [],
   "source": [
    "# como definir valores de uma linha e coluna \n",
    "display(df.head())\n",
    "df.loc[0:5, [\"unidades vendidas\"]] = 20\n",
    "display(df.head())\n"
   ]
  },
  {
   "cell_type": "markdown",
   "id": "746623f8",
   "metadata": {},
   "source": [
    "## Ordenação de dados"
   ]
  },
  {
   "cell_type": "code",
   "execution_count": null,
   "id": "8668b1e3",
   "metadata": {},
   "outputs": [],
   "source": [
    "# utilizando somente um parametro para o sort, neste caso é um numero entao vai ser por ordem de valor\n",
    "# ascending=True diz que vai ser do menor pro maior, se for False o contrario\n",
    "display(df.sort_values(\"unidades vendidas\", ascending=True))\n",
    "\n",
    "# é possivel utilizar mais de um criterio no sort, neste caso unidades e cafe\n",
    "# unidades sendo numerico vai ser por valor, ja no cafe como é uma string é alfabética\n",
    "# no ascending é passado uma lista que representa respectivamente como cada criterio vai ser organizado\n",
    "display(df.sort_values([\"unidades vendidas\", \"café\"],ascending=[0,1]))\n",
    "\n"
   ]
  },
  {
   "cell_type": "markdown",
   "id": "20aea5e4",
   "metadata": {},
   "source": [
    "## Filtragem de dados"
   ]
  },
  {
   "cell_type": "markdown",
   "id": "6208f8a9",
   "metadata": {},
   "source": [
    "#### Com loc e seleção personalizada"
   ]
  },
  {
   "cell_type": "code",
   "execution_count": null,
   "id": "ca22b200",
   "metadata": {},
   "outputs": [],
   "source": [
    "# filtrando por valor de uma coluna, retorna todas as linhas onde height_cm é maior igual a 200\n",
    "display(bios.loc[bios[\"height_cm\"] >= 200,[\"name\", \"height_cm\"]]) # loc é [index, columns]\n",
    "\n",
    "# loc nao é obrigatorio bios[bios[\"height_cm\"] >= 200][[\"name\", \"height_cm\"]] traz o mesmo resultado\n",
    "\n",
    "# é possível passar mais de uma condição, é necessario colocar entre () cada uma\n",
    "# a sintaxe ficaria (condição 1) & ou | (condição 2), & para and = dois lados verdadeira e | para or = 1 lado verdadeiro é suficiente\n",
    "display(bios[(bios[\"height_cm\"] >= 200) & (bios[\"born_country\"] == \"BRA\")])\n"
   ]
  },
  {
   "cell_type": "markdown",
   "id": "dcadc344",
   "metadata": {},
   "source": [
    "### Utilizando metodos de string e regex"
   ]
  },
  {
   "cell_type": "code",
   "execution_count": null,
   "id": "2248ff12",
   "metadata": {},
   "outputs": [],
   "source": [
    "# traz todas as linhas onde o campo nome == joão ignorando case\n",
    "display(bios[bios['name'].str.contains('joão', case=False)])\n",
    "\n",
    "# traz todas as linhas onde o campo nome começa com \"Maria\" (case insensitive)\n",
    "# O parâmetro na=False faz com que valores nulos (NaN) sejam tratados como False na filtragem, linhas onde 'name' é NaN não serão selecionadas.\n",
    "display(bios[bios['name'].str.startswith('Maria', na=False)])\n",
    "\n",
    "# traz todas as linhas onde o campo nome termina com \"son\" (case insensitive)\n",
    "display(bios[bios['name'].str.endswith('son', na=False)])\n",
    "\n",
    "# traz todas as linhas onde o campo nome contém apenas letras (sem números ou caracteres especiais)\n",
    "display(bios[bios['name'].str.match(r'^[A-Za-z\\s]+$', na=False)])\n",
    "\n",
    "# traz todas as linhas onde o campo nome contém \"da Silva\" usando regex, ignorando case\n",
    "display(bios[bios['name'].str.contains(r'da\\s+silva', case=False, regex=True)])\n",
    "\n",
    "# traz todas as linhas onde o campo nome possui exatamente dois nomes (dois grupos de letras separados por espaço)\n",
    "display(bios[bios['name'].str.match(r'^[A-Za-z]+ [A-Za-z]+$', na=False)])\n",
    "\n"
   ]
  },
  {
   "cell_type": "code",
   "execution_count": null,
   "id": "65141769",
   "metadata": {},
   "outputs": [],
   "source": [
    "# metodo isin serve para checar se existe um valor dentro de uma lista de valores\n",
    "display(bios[bios[\"born_country\"].isin(['USA', 'FRA', 'BRA', 'GBR'])])\n",
    "\n",
    "# é possivel adicionar mais imposições junto como nesse caso onde somente nome com j nos paises da lista\n",
    "display(bios[bios[\"born_country\"].isin(['USA', 'FRA', 'BRA', 'GBR']) & (bios['name'].str.startswith('J'))])"
   ]
  },
  {
   "cell_type": "markdown",
   "id": "5ebb7c77",
   "metadata": {},
   "source": [
    "### query\n"
   ]
  },
  {
   "cell_type": "code",
   "execution_count": 6,
   "id": "fd27426e",
   "metadata": {},
   "outputs": [
    {
     "data": {
      "text/html": [
       "<div>\n",
       "<style scoped>\n",
       "    .dataframe tbody tr th:only-of-type {\n",
       "        vertical-align: middle;\n",
       "    }\n",
       "\n",
       "    .dataframe tbody tr th {\n",
       "        vertical-align: top;\n",
       "    }\n",
       "\n",
       "    .dataframe thead th {\n",
       "        text-align: right;\n",
       "    }\n",
       "</style>\n",
       "<table border=\"1\" class=\"dataframe\">\n",
       "  <thead>\n",
       "    <tr style=\"text-align: right;\">\n",
       "      <th></th>\n",
       "      <th>athlete_id</th>\n",
       "      <th>name</th>\n",
       "      <th>born_date</th>\n",
       "      <th>born_city</th>\n",
       "      <th>born_region</th>\n",
       "      <th>born_country</th>\n",
       "      <th>NOC</th>\n",
       "      <th>height_cm</th>\n",
       "      <th>weight_kg</th>\n",
       "      <th>died_date</th>\n",
       "    </tr>\n",
       "  </thead>\n",
       "  <tbody>\n",
       "    <tr>\n",
       "      <th>143</th>\n",
       "      <td>144</td>\n",
       "      <td>Marc-Kevin Goellner</td>\n",
       "      <td>1970-09-22</td>\n",
       "      <td>Rio de Janeiro</td>\n",
       "      <td>Rio de Janeiro</td>\n",
       "      <td>BRA</td>\n",
       "      <td>Germany</td>\n",
       "      <td>196.0</td>\n",
       "      <td>85.0</td>\n",
       "      <td>NaN</td>\n",
       "    </tr>\n",
       "    <tr>\n",
       "      <th>354</th>\n",
       "      <td>355</td>\n",
       "      <td>Jorge Azevedo</td>\n",
       "      <td>1950-05-10</td>\n",
       "      <td>Rio de Janeiro</td>\n",
       "      <td>Rio de Janeiro</td>\n",
       "      <td>BRA</td>\n",
       "      <td>Brazil</td>\n",
       "      <td>168.0</td>\n",
       "      <td>70.0</td>\n",
       "      <td>NaN</td>\n",
       "    </tr>\n",
       "    <tr>\n",
       "      <th>355</th>\n",
       "      <td>356</td>\n",
       "      <td>Renato Dutra e Mello</td>\n",
       "      <td>1955-05-12</td>\n",
       "      <td>Rio de Janeiro</td>\n",
       "      <td>Rio de Janeiro</td>\n",
       "      <td>BRA</td>\n",
       "      <td>Brazil</td>\n",
       "      <td>167.0</td>\n",
       "      <td>72.0</td>\n",
       "      <td>NaN</td>\n",
       "    </tr>\n",
       "    <tr>\n",
       "      <th>2836</th>\n",
       "      <td>2848</td>\n",
       "      <td>Coroa</td>\n",
       "      <td>1906-01-15</td>\n",
       "      <td>Rio de Janeiro</td>\n",
       "      <td>Rio de Janeiro</td>\n",
       "      <td>BRA</td>\n",
       "      <td>Brazil</td>\n",
       "      <td>NaN</td>\n",
       "      <td>NaN</td>\n",
       "      <td>1963-01-01</td>\n",
       "    </tr>\n",
       "    <tr>\n",
       "      <th>5097</th>\n",
       "      <td>5116</td>\n",
       "      <td>Baiano</td>\n",
       "      <td>1912-09-27</td>\n",
       "      <td>Rio de Janeiro</td>\n",
       "      <td>Rio de Janeiro</td>\n",
       "      <td>BRA</td>\n",
       "      <td>Brazil</td>\n",
       "      <td>NaN</td>\n",
       "      <td>NaN</td>\n",
       "      <td>1956-07-17</td>\n",
       "    </tr>\n",
       "    <tr>\n",
       "      <th>...</th>\n",
       "      <td>...</td>\n",
       "      <td>...</td>\n",
       "      <td>...</td>\n",
       "      <td>...</td>\n",
       "      <td>...</td>\n",
       "      <td>...</td>\n",
       "      <td>...</td>\n",
       "      <td>...</td>\n",
       "      <td>...</td>\n",
       "      <td>...</td>\n",
       "    </tr>\n",
       "    <tr>\n",
       "      <th>137878</th>\n",
       "      <td>141260</td>\n",
       "      <td>Lucas Verthein</td>\n",
       "      <td>1998-05-12</td>\n",
       "      <td>Rio de Janeiro</td>\n",
       "      <td>Rio de Janeiro</td>\n",
       "      <td>BRA</td>\n",
       "      <td>Brazil</td>\n",
       "      <td>190.0</td>\n",
       "      <td>85.0</td>\n",
       "      <td>NaN</td>\n",
       "    </tr>\n",
       "    <tr>\n",
       "      <th>137900</th>\n",
       "      <td>141282</td>\n",
       "      <td>Alan Souza</td>\n",
       "      <td>1994-03-21</td>\n",
       "      <td>Rio de Janeiro</td>\n",
       "      <td>Rio de Janeiro</td>\n",
       "      <td>BRA</td>\n",
       "      <td>Brazil</td>\n",
       "      <td>199.0</td>\n",
       "      <td>80.0</td>\n",
       "      <td>NaN</td>\n",
       "    </tr>\n",
       "    <tr>\n",
       "      <th>137902</th>\n",
       "      <td>141284</td>\n",
       "      <td>Isac Viana</td>\n",
       "      <td>1990-12-13</td>\n",
       "      <td>Rio de Janeiro</td>\n",
       "      <td>Rio de Janeiro</td>\n",
       "      <td>BRA</td>\n",
       "      <td>Brazil</td>\n",
       "      <td>205.0</td>\n",
       "      <td>99.0</td>\n",
       "      <td>NaN</td>\n",
       "    </tr>\n",
       "    <tr>\n",
       "      <th>142408</th>\n",
       "      <td>146015</td>\n",
       "      <td>Bárbara Timo</td>\n",
       "      <td>1991-03-10</td>\n",
       "      <td>Rio de Janeiro</td>\n",
       "      <td>Rio de Janeiro</td>\n",
       "      <td>BRA</td>\n",
       "      <td>Portugal</td>\n",
       "      <td>168.0</td>\n",
       "      <td>70.0</td>\n",
       "      <td>NaN</td>\n",
       "    </tr>\n",
       "    <tr>\n",
       "      <th>143999</th>\n",
       "      <td>147663</td>\n",
       "      <td>Ricardo Graça</td>\n",
       "      <td>1997-02-16</td>\n",
       "      <td>Rio de Janeiro</td>\n",
       "      <td>Rio de Janeiro</td>\n",
       "      <td>BRA</td>\n",
       "      <td>Brazil</td>\n",
       "      <td>183.0</td>\n",
       "      <td>70.0</td>\n",
       "      <td>NaN</td>\n",
       "    </tr>\n",
       "  </tbody>\n",
       "</table>\n",
       "<p>433 rows × 10 columns</p>\n",
       "</div>"
      ],
      "text/plain": [
       "        athlete_id                  name   born_date       born_city  \\\n",
       "143            144   Marc-Kevin Goellner  1970-09-22  Rio de Janeiro   \n",
       "354            355         Jorge Azevedo  1950-05-10  Rio de Janeiro   \n",
       "355            356  Renato Dutra e Mello  1955-05-12  Rio de Janeiro   \n",
       "2836          2848                 Coroa  1906-01-15  Rio de Janeiro   \n",
       "5097          5116                Baiano  1912-09-27  Rio de Janeiro   \n",
       "...            ...                   ...         ...             ...   \n",
       "137878      141260        Lucas Verthein  1998-05-12  Rio de Janeiro   \n",
       "137900      141282            Alan Souza  1994-03-21  Rio de Janeiro   \n",
       "137902      141284            Isac Viana  1990-12-13  Rio de Janeiro   \n",
       "142408      146015          Bárbara Timo  1991-03-10  Rio de Janeiro   \n",
       "143999      147663         Ricardo Graça  1997-02-16  Rio de Janeiro   \n",
       "\n",
       "           born_region born_country       NOC  height_cm  weight_kg  \\\n",
       "143     Rio de Janeiro          BRA   Germany      196.0       85.0   \n",
       "354     Rio de Janeiro          BRA    Brazil      168.0       70.0   \n",
       "355     Rio de Janeiro          BRA    Brazil      167.0       72.0   \n",
       "2836    Rio de Janeiro          BRA    Brazil        NaN        NaN   \n",
       "5097    Rio de Janeiro          BRA    Brazil        NaN        NaN   \n",
       "...                ...          ...       ...        ...        ...   \n",
       "137878  Rio de Janeiro          BRA    Brazil      190.0       85.0   \n",
       "137900  Rio de Janeiro          BRA    Brazil      199.0       80.0   \n",
       "137902  Rio de Janeiro          BRA    Brazil      205.0       99.0   \n",
       "142408  Rio de Janeiro          BRA  Portugal      168.0       70.0   \n",
       "143999  Rio de Janeiro          BRA    Brazil      183.0       70.0   \n",
       "\n",
       "         died_date  \n",
       "143            NaN  \n",
       "354            NaN  \n",
       "355            NaN  \n",
       "2836    1963-01-01  \n",
       "5097    1956-07-17  \n",
       "...            ...  \n",
       "137878         NaN  \n",
       "137900         NaN  \n",
       "137902         NaN  \n",
       "142408         NaN  \n",
       "143999         NaN  \n",
       "\n",
       "[433 rows x 10 columns]"
      ]
     },
     "execution_count": 6,
     "metadata": {},
     "output_type": "execute_result"
    }
   ],
   "source": [
    "bios.query('born_country == \"BRA\" and born_city == \"Rio de Janeiro\"')"
   ]
  },
  {
   "cell_type": "markdown",
   "id": "a9a49ff5",
   "metadata": {},
   "source": [
    "## adicionar e remover colunas\n"
   ]
  },
  {
   "cell_type": "code",
   "execution_count": null,
   "id": "102648a8",
   "metadata": {},
   "outputs": [],
   "source": [
    "# Adiciona uma nova coluna chamada 'preço' ao DataFrame df e define todos os valores dessa coluna como 10.\n",
    "# O operador de atribuição (=) cria a coluna se ela não existir ou sobrescreve se já existir.\n",
    "# Sintaxe: df['nome_coluna'] = valor ou expressão\n",
    "df['preço'] = 10\n",
    "\n",
    "df"
   ]
  },
  {
   "cell_type": "code",
   "execution_count": null,
   "id": "61333130",
   "metadata": {},
   "outputs": [],
   "source": [
    "# Importa a biblioteca numpy para operações numéricas\n",
    "import numpy as np\n",
    "\n",
    "# Cria uma nova coluna 'novo_preço' no DataFrame df.\n",
    "# np.where permite definir valores diferentes para a coluna com base em uma condição.\n",
    "# Aqui, se o valor da coluna 'café' for 'expresso', o preço será 8.90; caso contrário, será 7.50.\n",
    "df['novo_preço'] = np.where(df['café'] == 'expresso', 8.90, 7.50)\n",
    "\n",
    "df"
   ]
  },
  {
   "cell_type": "code",
   "execution_count": null,
   "id": "8866f63a",
   "metadata": {},
   "outputs": [],
   "source": [
    "# Remove a coluna 'preço' do DataFrame df.\n",
    "# O parâmetro inplace=True faz com que a alteração seja feita diretamente no DataFrame original.\n",
    "df.drop(columns=['preço'], inplace=True)\n",
    "\n",
    "df"
   ]
  },
  {
   "cell_type": "code",
   "execution_count": null,
   "id": "5b4d686b",
   "metadata": {},
   "outputs": [],
   "source": [
    "# Cria uma nova coluna chamada 'lucro' multiplicando as colunas 'unidades vendidas' e 'novo_preço'.\n",
    "# Isso calcula o lucro de cada linha com base na quantidade vendida e no preço do produto.\n",
    "df['lucro'] = df['unidades vendidas'] * df['novo_preço']\n",
    "\n",
    "df"
   ]
  },
  {
   "cell_type": "code",
   "execution_count": null,
   "id": "0e7d5680",
   "metadata": {},
   "outputs": [],
   "source": [
    "# Renomeia a coluna 'novo_preço' para 'preço' no DataFrame df.\n",
    "# O parâmetro inplace=True faz a alteração diretamente no DataFrame original.\n",
    "df.rename(columns={'novo_preço':'preço'}, inplace=True)\n"
   ]
  },
  {
   "cell_type": "code",
   "execution_count": null,
   "id": "d1e6347f",
   "metadata": {},
   "outputs": [],
   "source": [
    "# Cria uma cópia do DataFrame bios para evitar alterações no original.\n",
    "bios_new = bios.copy()"
   ]
  },
  {
   "cell_type": "code",
   "execution_count": null,
   "id": "bf6fad52",
   "metadata": {},
   "outputs": [],
   "source": [
    "# Cria uma nova coluna chamada 'first_name' contendo apenas o primeiro nome de cada pessoa.\n",
    "# O método str.split(' ') divide o nome pelo espaço e str[0] seleciona o primeiro elemento da lista.\n",
    "bios_new['first_name'] = bios_new['name'].str.split(' ').str[0]\n",
    "\n",
    "bios_new"
   ]
  },
  {
   "cell_type": "code",
   "execution_count": null,
   "id": "42ba5354",
   "metadata": {},
   "outputs": [],
   "source": [
    "# Converte a coluna 'born_date' para o tipo datetime e armazena em uma nova coluna 'born_datetime'.\n",
    "# Isso facilita operações com datas, como extração de ano, mês, etc.\n",
    "bios_new['born_datetime'] = pd.to_datetime(bios_new['born_date'])\n",
    "\n",
    "bios_new"
   ]
  },
  {
   "cell_type": "code",
   "execution_count": null,
   "id": "069de5ee",
   "metadata": {},
   "outputs": [],
   "source": [
    "# Cria uma nova coluna 'born_year' extraindo o ano da coluna 'born_datetime'.\n",
    "# O atributo .dt.year retorna apenas o ano da data.\n",
    "bios_new['born_year'] = bios_new['born_datetime'].dt.year\n",
    "\n",
    "bios_new"
   ]
  }
 ],
 "metadata": {
  "kernelspec": {
   "display_name": ".venv (3.11.2)",
   "language": "python",
   "name": "python3"
  },
  "language_info": {
   "codemirror_mode": {
    "name": "ipython",
    "version": 3
   },
   "file_extension": ".py",
   "mimetype": "text/x-python",
   "name": "python",
   "nbconvert_exporter": "python",
   "pygments_lexer": "ipython3",
   "version": "3.11.2"
  }
 },
 "nbformat": 4,
 "nbformat_minor": 5
}
