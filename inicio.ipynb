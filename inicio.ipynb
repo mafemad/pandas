{
 "cells": [
  {
   "cell_type": "markdown",
   "id": "96d39fdc",
   "metadata": {},
   "source": [
    "## bibliotecas"
   ]
  },
  {
   "cell_type": "code",
   "execution_count": 2,
   "id": "1b025aa0",
   "metadata": {},
   "outputs": [],
   "source": [
    "import pandas as pd "
   ]
  },
  {
   "cell_type": "markdown",
   "id": "3bd9c69d",
   "metadata": {},
   "source": [
    "## Importação bases de dados"
   ]
  },
  {
   "cell_type": "code",
   "execution_count": 3,
   "id": "ebcc2528",
   "metadata": {},
   "outputs": [],
   "source": [
    "df = pd.read_csv('./data/teste.csv')\n",
    "\n",
    "df.head() \n",
    "\n",
    "#df.to_parquet('./data/teste.parquet', index=False)\n",
    "results = pd.read_parquet('./data/results.parquet') # base de dados em uma versão mais leve que xlsx ou csv, \n",
    "bios = pd.read_csv('./data/bios.csv')"
   ]
  },
  {
   "cell_type": "markdown",
   "id": "46d24cb1",
   "metadata": {},
   "source": []
  },
  {
   "cell_type": "markdown",
   "id": "58bb6f01",
   "metadata": {},
   "source": [
    "## Metodos básicos de seleção de dados"
   ]
  },
  {
   "cell_type": "code",
   "execution_count": null,
   "id": "e031ba66",
   "metadata": {},
   "outputs": [],
   "source": [
    "display(df.loc[0:5, ['unidades vendidas', 'dia']]) # permite localizar pela label do index\n",
    "\n",
    "display(df.iloc[0:5]) #somente index numerico como 0,1,2,3 alem de excluir o ultimo valor\n",
    "\n",
    "display(df.at[0, \"café\"]) # loc porem somente para um valor \n",
    "display(df.iat[0,0]) # iloc porem somente para um valor"
   ]
  },
  {
   "cell_type": "code",
   "execution_count": null,
   "id": "a202e131",
   "metadata": {},
   "outputs": [],
   "source": [
    "# como definir valores de uma linha e coluna \n",
    "display(df.head())\n",
    "df.loc[0:5, [\"unidades vendidas\"]] = 20\n",
    "display(df.head())\n"
   ]
  },
  {
   "cell_type": "markdown",
   "id": "746623f8",
   "metadata": {},
   "source": [
    "## Ordenação de dados"
   ]
  },
  {
   "cell_type": "code",
   "execution_count": null,
   "id": "8668b1e3",
   "metadata": {},
   "outputs": [],
   "source": [
    "# utilizando somente um parametro para o sort, neste caso é um numero entao vai ser por ordem de valor\n",
    "# ascending=True diz que vai ser do menor pro maior, se for False o contrario\n",
    "display(df.sort_values(\"unidades vendidas\", ascending=True))\n",
    "\n",
    "# é possivel utilizar mais de um criterio no sort, neste caso unidades e cafe\n",
    "# unidades sendo numerico vai ser por valor, ja no cafe como é uma string é alfabética\n",
    "# no ascending é passado uma lista que representa respectivamente como cada criterio vai ser organizado\n",
    "display(df.sort_values([\"unidades vendidas\", \"café\"],ascending=[0,1]))\n",
    "\n"
   ]
  },
  {
   "cell_type": "markdown",
   "id": "20aea5e4",
   "metadata": {},
   "source": [
    "## Filtragem de dados"
   ]
  },
  {
   "cell_type": "markdown",
   "id": "6208f8a9",
   "metadata": {},
   "source": [
    "#### Com loc e seleção personalizada"
   ]
  },
  {
   "cell_type": "code",
   "execution_count": null,
   "id": "ca22b200",
   "metadata": {},
   "outputs": [],
   "source": [
    "# filtrando por valor de uma coluna, retorna todas as linhas onde height_cm é maior igual a 200\n",
    "display(bios.loc[bios[\"height_cm\"] >= 200,[\"name\", \"height_cm\"]]) # loc é [index, columns]\n",
    "\n",
    "# loc nao é obrigatorio bios[bios[\"height_cm\"] >= 200][[\"name\", \"height_cm\"]] traz o mesmo resultado\n",
    "\n",
    "# é possível passar mais de uma condição, é necessario colocar entre () cada uma\n",
    "# a sintaxe ficaria (condição 1) & ou | (condição 2), & para and = dois lados verdadeira e | para or = 1 lado verdadeiro é suficiente\n",
    "display(bios[(bios[\"height_cm\"] >= 200) & (bios[\"born_country\"] == \"BRA\")])\n"
   ]
  },
  {
   "cell_type": "markdown",
   "id": "dcadc344",
   "metadata": {},
   "source": [
    "### Utilizando metodos de string e regex"
   ]
  },
  {
   "cell_type": "code",
   "execution_count": null,
   "id": "2248ff12",
   "metadata": {},
   "outputs": [],
   "source": [
    "# traz todas as linhas onde o campo nome == joão ignorando case\n",
    "display(bios[bios['name'].str.contains('joão', case=False)])\n",
    "\n",
    "# traz todas as linhas onde o campo nome começa com \"Maria\" (case insensitive)\n",
    "# O parâmetro na=False faz com que valores nulos (NaN) sejam tratados como False na filtragem, linhas onde 'name' é NaN não serão selecionadas.\n",
    "display(bios[bios['name'].str.startswith('Maria', na=False)])\n",
    "\n",
    "# traz todas as linhas onde o campo nome termina com \"son\" (case insensitive)\n",
    "display(bios[bios['name'].str.endswith('son', na=False)])\n",
    "\n",
    "# traz todas as linhas onde o campo nome contém apenas letras (sem números ou caracteres especiais)\n",
    "display(bios[bios['name'].str.match(r'^[A-Za-z\\s]+$', na=False)])\n",
    "\n",
    "# traz todas as linhas onde o campo nome contém \"da Silva\" usando regex, ignorando case\n",
    "display(bios[bios['name'].str.contains(r'da\\s+silva', case=False, regex=True)])\n",
    "\n",
    "# traz todas as linhas onde o campo nome possui exatamente dois nomes (dois grupos de letras separados por espaço)\n",
    "display(bios[bios['name'].str.match(r'^[A-Za-z]+ [A-Za-z]+$', na=False)])\n",
    "\n"
   ]
  },
  {
   "cell_type": "code",
   "execution_count": null,
   "id": "65141769",
   "metadata": {},
   "outputs": [],
   "source": [
    "# metodo isin serve para checar se existe um valor dentro de uma lista de valores\n",
    "display(bios[bios[\"born_country\"].isin(['USA', 'FRA', 'BRA', 'GBR'])])\n",
    "\n",
    "# é possivel adicionar mais imposições junto como nesse caso onde somente nome com j nos paises da lista\n",
    "display(bios[bios[\"born_country\"].isin(['USA', 'FRA', 'BRA', 'GBR']) & (bios['name'].str.startswith('J'))])"
   ]
  }
 ],
 "metadata": {
  "kernelspec": {
   "display_name": ".venv (3.11.2)",
   "language": "python",
   "name": "python3"
  },
  "language_info": {
   "codemirror_mode": {
    "name": "ipython",
    "version": 3
   },
   "file_extension": ".py",
   "mimetype": "text/x-python",
   "name": "python",
   "nbconvert_exporter": "python",
   "pygments_lexer": "ipython3",
   "version": "3.11.2"
  }
 },
 "nbformat": 4,
 "nbformat_minor": 5
}
